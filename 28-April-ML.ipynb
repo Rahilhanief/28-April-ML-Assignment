{
 "cells": [
  {
   "cell_type": "code",
   "execution_count": 1,
   "id": "a5521953-8fe9-479a-b44f-0252128b568d",
   "metadata": {},
   "outputs": [
    {
     "data": {
      "text/plain": [
       "'\\nHierarchical clustering, also known as hierarchical cluster analysis, is an algorithm that groups\\nsimilar objects into groups called clusters. \\nThe endpoint is a set of clusters, where each cluster is distinct from each other cluster,\\nand the objects within each cluster are broadly similar to each other.\\n'"
      ]
     },
     "execution_count": 1,
     "metadata": {},
     "output_type": "execute_result"
    }
   ],
   "source": [
    "## Q No. 1 :\n",
    "\"\"\"\n",
    "Hierarchical clustering, also known as hierarchical cluster analysis, is an algorithm that groups\n",
    "similar objects into groups called clusters. \n",
    "The endpoint is a set of clusters, where each cluster is distinct from each other cluster,\n",
    "and the objects within each cluster are broadly similar to each other.\n",
    "\"\"\""
   ]
  },
  {
   "cell_type": "code",
   "execution_count": 2,
   "id": "6ee57336-7a74-42c3-a341-c66b46091c7f",
   "metadata": {},
   "outputs": [
    {
     "data": {
      "text/plain": [
       "'\\nThere are two main types of hierarchical clustering:\\nAgglomerative: Initially, each object is considered to be its own cluster. According to a particular procedure, \\nthe clusters are then merged step by step until a single cluster remains.\\nDivisive: The Divisive method is the opposite of the Agglomerative method.\\n'"
      ]
     },
     "execution_count": 2,
     "metadata": {},
     "output_type": "execute_result"
    }
   ],
   "source": [
    "## Q No. 2 :\n",
    "\"\"\"\n",
    "There are two main types of hierarchical clustering:\n",
    "Agglomerative: Initially, each object is considered to be its own cluster. According to a particular procedure, \n",
    "the clusters are then merged step by step until a single cluster remains.\n",
    "Divisive: The Divisive method is the opposite of the Agglomerative method.\n",
    "\"\"\""
   ]
  },
  {
   "cell_type": "code",
   "execution_count": 3,
   "id": "2f3eb429-dfce-4c80-ac21-6d3af8661e4b",
   "metadata": {},
   "outputs": [
    {
     "data": {
      "text/plain": [
       "'\\nFor most common hierarchical clustering software, the default distance measure is the Euclidean distance.\\nThis is the square root of the sum of the square differences.\\nHowever, for gene expression, correlation distance is often used.\\n'"
      ]
     },
     "execution_count": 3,
     "metadata": {},
     "output_type": "execute_result"
    }
   ],
   "source": [
    "## Q No. 3 :\n",
    "\"\"\"\n",
    "For most common hierarchical clustering software, the default distance measure is the Euclidean distance.\n",
    "This is the square root of the sum of the square differences.\n",
    "However, for gene expression, correlation distance is often used.\n",
    "\"\"\""
   ]
  },
  {
   "cell_type": "code",
   "execution_count": 4,
   "id": "bd38e826-826f-4529-a7b1-ac1a58babc81",
   "metadata": {},
   "outputs": [
    {
     "data": {
      "text/plain": [
       "'\\nTo get the optimal number of clusters for hierarchical clustering, we make use a dendrogram which is\\ntree-like chart that shows the sequences of merges or splits of clusters. \\nIf two clusters are merged, the dendrogram will join them in a graph and the height of the join will be the \\ndistance between those clusters.\\n'"
      ]
     },
     "execution_count": 4,
     "metadata": {},
     "output_type": "execute_result"
    }
   ],
   "source": [
    "## Q No. 4 :\n",
    "\"\"\"\n",
    "To get the optimal number of clusters for hierarchical clustering, we make use a dendrogram which is\n",
    "tree-like chart that shows the sequences of merges or splits of clusters. \n",
    "If two clusters are merged, the dendrogram will join them in a graph and the height of the join will be the \n",
    "distance between those clusters.\n",
    "\"\"\""
   ]
  },
  {
   "cell_type": "code",
   "execution_count": 5,
   "id": "24cd9d23-5b84-4c87-ab8f-aced77b661d5",
   "metadata": {},
   "outputs": [
    {
     "data": {
      "text/plain": [
       "'\\nA dendrogram is a diagram that shows the hierarchical relationship between objects. \\nIt is most commonly created as an output from hierarchical clustering.\\nThe main use of a dendrogram is to work out the best way to allocate objects to clusters.\\n'"
      ]
     },
     "execution_count": 5,
     "metadata": {},
     "output_type": "execute_result"
    }
   ],
   "source": [
    "## Q No. 5 :\n",
    "\"\"\"\n",
    "A dendrogram is a diagram that shows the hierarchical relationship between objects. \n",
    "It is most commonly created as an output from hierarchical clustering.\n",
    "The main use of a dendrogram is to work out the best way to allocate objects to clusters.\n",
    "\"\"\""
   ]
  },
  {
   "cell_type": "code",
   "execution_count": 6,
   "id": "7e881993-405d-4b8a-8a35-8c54aac4c740",
   "metadata": {},
   "outputs": [
    {
     "data": {
      "text/plain": [
       "'\\nMost distance metrics, and hence the hierarchical clustering methods, work either with continuous-only\\nor categorical-only data.\\nIn applications, however, observations are often described by a combination of both continuous and categorical variables.\\n'"
      ]
     },
     "execution_count": 6,
     "metadata": {},
     "output_type": "execute_result"
    }
   ],
   "source": [
    "## Q No. 6 :\n",
    "\"\"\"\n",
    "Most distance metrics, and hence the hierarchical clustering methods, work either with continuous-only\n",
    "or categorical-only data.\n",
    "In applications, however, observations are often described by a combination of both continuous and categorical variables.\n",
    "\"\"\""
   ]
  },
  {
   "cell_type": "code",
   "execution_count": 8,
   "id": "3c70db48-854b-431a-96b7-b3307fc487fb",
   "metadata": {},
   "outputs": [
    {
     "data": {
      "text/plain": [
       "'\\nIn case of hierarchical clustering, by using dendrogram outliers are found.\\nThe goal of the project is to detect the outlier and remove the outliers to make the clustering more reliable.\\n'"
      ]
     },
     "execution_count": 8,
     "metadata": {},
     "output_type": "execute_result"
    }
   ],
   "source": [
    "## Q No. 7 :\n",
    "\"\"\"\n",
    "In case of hierarchical clustering, by using dendrogram outliers are found.\n",
    "The goal of the project is to detect the outlier and remove the outliers to make the clustering more reliable.\n",
    "\"\"\""
   ]
  }
 ],
 "metadata": {
  "kernelspec": {
   "display_name": "Python 3 (ipykernel)",
   "language": "python",
   "name": "python3"
  },
  "language_info": {
   "codemirror_mode": {
    "name": "ipython",
    "version": 3
   },
   "file_extension": ".py",
   "mimetype": "text/x-python",
   "name": "python",
   "nbconvert_exporter": "python",
   "pygments_lexer": "ipython3",
   "version": "3.10.8"
  }
 },
 "nbformat": 4,
 "nbformat_minor": 5
}
